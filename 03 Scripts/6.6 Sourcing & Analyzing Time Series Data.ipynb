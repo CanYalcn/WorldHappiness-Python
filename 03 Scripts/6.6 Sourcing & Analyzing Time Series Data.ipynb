{
 "cells": [
  {
   "cell_type": "markdown",
   "id": "a7a53e36",
   "metadata": {},
   "source": [
    "# 6.6 Sourcing & Analyzing Time-Series Data"
   ]
  },
  {
   "cell_type": "markdown",
   "id": "0c6a9ab7",
   "metadata": {},
   "source": [
    "### 1. Importing your libraries and data"
   ]
  },
  {
   "cell_type": "code",
   "execution_count": 1,
   "id": "a065563d",
   "metadata": {},
   "outputs": [],
   "source": [
    "import quandl\n",
    "import pandas as pd\n",
    "import numpy as np\n",
    "import seaborn as sns\n",
    "import matplotlib\n",
    "import matplotlib.pyplot as plt\n",
    "import statsmodels.api as sm # Using .api imports the public access version of statsmodels, which is a library that handles \n",
    "# statistical models.\n",
    "import os\n",
    "import warnings # This is a library that handles warnings.\n",
    "\n",
    "warnings.filterwarnings(\"ignore\") # Disable deprecation warnings that could indicate, for instance, a suspended library or \n",
    "# feature. These are more relevant to developers and very seldom to analysts.\n",
    "\n",
    "plt.style.use('fivethirtyeight') # This is a styling option for how your plots will appear. More examples here:\n",
    "# https://matplotlib.org/3.2.1/tutorials/introductory/customizing.html\n",
    "# https://matplotlib.org/3.1.0/gallery/style_sheets/fivethirtyeight.html"
   ]
  },
  {
   "cell_type": "code",
   "execution_count": 2,
   "id": "aa2cb774",
   "metadata": {},
   "outputs": [],
   "source": [
    "# Define path\n",
    "path = r'C:\\Users\\ASUS\\World Happiness Report 04.2024\\02 Data\\Prepared Data'"
   ]
  },
  {
   "cell_type": "code",
   "execution_count": 3,
   "id": "c1c5f773",
   "metadata": {},
   "outputs": [],
   "source": [
    "# Load the pickle file\n",
    "df_World = pd.read_pickle(os.path.join(path, 'df_World_62.pkl'))"
   ]
  },
  {
   "cell_type": "code",
   "execution_count": 4,
   "id": "96e8f3fa",
   "metadata": {},
   "outputs": [
    {
     "data": {
      "text/plain": [
       "Index(['Country name', 'year', 'Life Ladder', 'Log GDP per capita',\n",
       "       'Social support', 'Healthy life expectancy at birth',\n",
       "       'Freedom to make life choices', 'Generosity',\n",
       "       'Perceptions of corruption', 'Positive affect', 'Negative affect',\n",
       "       'Score category'],\n",
       "      dtype='object')"
      ]
     },
     "execution_count": 4,
     "metadata": {},
     "output_type": "execute_result"
    }
   ],
   "source": [
    "df_World.columns\n"
   ]
  },
  {
   "cell_type": "code",
   "execution_count": 5,
   "id": "e2de98fd",
   "metadata": {},
   "outputs": [],
   "source": [
    "data_types = {'year': 'datetime64'}\n"
   ]
  },
  {
   "cell_type": "code",
   "execution_count": 6,
   "id": "ca0d97f2",
   "metadata": {},
   "outputs": [],
   "source": [
    "file_path = os.path.join(path, 'df_World_62.pkl')\n"
   ]
  },
  {
   "cell_type": "code",
   "execution_count": 7,
   "id": "2d314a8a",
   "metadata": {},
   "outputs": [],
   "source": [
    "happiness_dates = ['year']\n"
   ]
  },
  {
   "cell_type": "code",
   "execution_count": 8,
   "id": "05f9588c",
   "metadata": {},
   "outputs": [],
   "source": [
    "df_World['year'] = pd.to_datetime(df_World['year'], format='%Y')"
   ]
  },
  {
   "cell_type": "code",
   "execution_count": 9,
   "id": "0246445a",
   "metadata": {},
   "outputs": [
    {
     "name": "stdout",
     "output_type": "stream",
     "text": [
      "<class 'pandas.core.frame.DataFrame'>\n",
      "RangeIndex: 1949 entries, 0 to 1948\n",
      "Data columns (total 12 columns):\n",
      " #   Column                            Non-Null Count  Dtype         \n",
      "---  ------                            --------------  -----         \n",
      " 0   Country name                      1949 non-null   object        \n",
      " 1   year                              1949 non-null   datetime64[ns]\n",
      " 2   Life Ladder                       1949 non-null   float64       \n",
      " 3   Log GDP per capita                1949 non-null   float64       \n",
      " 4   Social support                    1949 non-null   float64       \n",
      " 5   Healthy life expectancy at birth  1949 non-null   float64       \n",
      " 6   Freedom to make life choices      1949 non-null   float64       \n",
      " 7   Generosity                        1949 non-null   float64       \n",
      " 8   Perceptions of corruption         1949 non-null   float64       \n",
      " 9   Positive affect                   1949 non-null   float64       \n",
      " 10  Negative affect                   1949 non-null   float64       \n",
      " 11  Score category                    1949 non-null   object        \n",
      "dtypes: datetime64[ns](1), float64(9), object(2)\n",
      "memory usage: 182.8+ KB\n"
     ]
    }
   ],
   "source": [
    "df_World.info()"
   ]
  },
  {
   "cell_type": "markdown",
   "id": "b6148728",
   "metadata": {},
   "source": [
    "### 2. Subsetting, wrangling, and cleaning time-series data"
   ]
  },
  {
   "cell_type": "code",
   "execution_count": 10,
   "id": "f12fdb7e",
   "metadata": {},
   "outputs": [],
   "source": [
    "year_counts = df_World.groupby( df_World['year'].dt.date)['year'].count()"
   ]
  },
  {
   "cell_type": "code",
   "execution_count": 11,
   "id": "e73ad4c9",
   "metadata": {},
   "outputs": [
    {
     "data": {
      "text/plain": [
       "year\n",
       "2005-01-01     27\n",
       "2006-01-01     89\n",
       "2007-01-01    102\n",
       "2008-01-01    110\n",
       "2009-01-01    114\n",
       "2010-01-01    124\n",
       "2011-01-01    146\n",
       "2012-01-01    142\n",
       "2013-01-01    137\n",
       "2014-01-01    145\n",
       "2015-01-01    143\n",
       "2016-01-01    142\n",
       "2017-01-01    147\n",
       "2018-01-01    142\n",
       "2019-01-01    144\n",
       "2020-01-01     95\n",
       "Name: year, dtype: int64"
      ]
     },
     "execution_count": 11,
     "metadata": {},
     "output_type": "execute_result"
    }
   ],
   "source": [
    "year_counts"
   ]
  },
  {
   "cell_type": "code",
   "execution_count": 12,
   "id": "c6b18003",
   "metadata": {},
   "outputs": [],
   "source": [
    "#avg duration happiness on year\n",
    "avg_happiness_year = df_World.groupby('year')['Life Ladder'].mean()"
   ]
  },
  {
   "cell_type": "code",
   "execution_count": 13,
   "id": "c8e8d4f7",
   "metadata": {},
   "outputs": [
    {
     "data": {
      "text/plain": [
       "year\n",
       "2005-01-01    6.446259\n",
       "2006-01-01    5.196899\n",
       "2007-01-01    5.418275\n",
       "2008-01-01    5.418509\n",
       "2009-01-01    5.457667\n",
       "2010-01-01    5.496806\n",
       "2011-01-01    5.424082\n",
       "2012-01-01    5.443754\n",
       "2013-01-01    5.394562\n",
       "2014-01-01    5.389021\n",
       "2015-01-01    5.404035\n",
       "2016-01-01    5.399479\n",
       "2017-01-01    5.460408\n",
       "2018-01-01    5.499444\n",
       "2019-01-01    5.570868\n",
       "2020-01-01    5.840600\n",
       "Name: Life Ladder, dtype: float64"
      ]
     },
     "execution_count": 13,
     "metadata": {},
     "output_type": "execute_result"
    }
   ],
   "source": [
    "avg_happiness_year"
   ]
  },
  {
   "cell_type": "code",
   "execution_count": 14,
   "id": "31ea7326",
   "metadata": {},
   "outputs": [
    {
     "name": "stdout",
     "output_type": "stream",
     "text": [
      "          year  Life Ladder  avg_happiness\n",
      "0   2005-01-01           27       6.446259\n",
      "1   2006-01-01           89       5.196899\n",
      "2   2007-01-01          102       5.418275\n",
      "3   2008-01-01          110       5.418509\n",
      "4   2009-01-01          114       5.457667\n",
      "5   2010-01-01          124       5.496806\n",
      "6   2011-01-01          146       5.424082\n",
      "7   2012-01-01          142       5.443754\n",
      "8   2013-01-01          137       5.394562\n",
      "9   2014-01-01          145       5.389021\n",
      "10  2015-01-01          143       5.404035\n",
      "11  2016-01-01          142       5.399479\n",
      "12  2017-01-01          147       5.460408\n",
      "13  2018-01-01          142       5.499444\n",
      "14  2019-01-01          144       5.570868\n",
      "15  2020-01-01           95       5.840600\n"
     ]
    }
   ],
   "source": [
    "result = pd.DataFrame({\n",
    "    'year': year_counts.index, \n",
    "    'Life Ladder': year_counts.values, \n",
    "    'avg_happiness': avg_happiness_year.values\n",
    "})\n",
    "print(result)"
   ]
  },
  {
   "cell_type": "code",
   "execution_count": 15,
   "id": "148cbe19",
   "metadata": {},
   "outputs": [
    {
     "name": "stdout",
     "output_type": "stream",
     "text": [
      "<class 'pandas.core.frame.DataFrame'>\n",
      "RangeIndex: 16 entries, 0 to 15\n",
      "Data columns (total 3 columns):\n",
      " #   Column         Non-Null Count  Dtype  \n",
      "---  ------         --------------  -----  \n",
      " 0   year           16 non-null     object \n",
      " 1   Life Ladder    16 non-null     int64  \n",
      " 2   avg_happiness  16 non-null     float64\n",
      "dtypes: float64(1), int64(1), object(1)\n",
      "memory usage: 516.0+ bytes\n"
     ]
    }
   ],
   "source": [
    "result.info()"
   ]
  },
  {
   "cell_type": "code",
   "execution_count": 16,
   "id": "2a8298f9",
   "metadata": {},
   "outputs": [],
   "source": [
    "from datetime import datetime\n",
    "\n",
    "result['datetime'] = pd.to_datetime(result['year'], format='%Y')  # Create a datetime column from 'year'\n",
    "result = result.set_index('datetime')  # Set the datetime as the index of the DataFrame\n",
    "result.drop(['year'], axis=1, inplace=True)  # Drop the 'year' column"
   ]
  },
  {
   "cell_type": "code",
   "execution_count": 17,
   "id": "48efb8cc",
   "metadata": {},
   "outputs": [
    {
     "name": "stdout",
     "output_type": "stream",
     "text": [
      "            Life Ladder  avg_happiness\n",
      "datetime                              \n",
      "2005-01-01           27       6.446259\n",
      "2006-01-01           89       5.196899\n",
      "2007-01-01          102       5.418275\n",
      "2008-01-01          110       5.418509\n",
      "2009-01-01          114       5.457667\n"
     ]
    }
   ],
   "source": [
    "print(result.head())"
   ]
  },
  {
   "cell_type": "code",
   "execution_count": 18,
   "id": "e1de5cf7",
   "metadata": {},
   "outputs": [
    {
     "data": {
      "text/plain": [
       "[<matplotlib.lines.Line2D at 0x26ad7ab6e10>]"
      ]
     },
     "execution_count": 18,
     "metadata": {},
     "output_type": "execute_result"
    },
    {
     "data": {
      "image/png": "[encoded data removed]",
      "text/plain": [
       "<Figure size 1500x500 with 1 Axes>"
      ]
     },
     "metadata": {},
     "output_type": "display_data"
    }
   ],
   "source": [
    "# Plot the new data set\n",
    "\n",
    "plt.figure(figsize=(15,5), dpi=100)\n",
    "plt.plot(year_counts)"
   ]
  },
  {
   "cell_type": "code",
   "execution_count": 19,
   "id": "0b7c6b87",
   "metadata": {},
   "outputs": [
    {
     "data": {
      "text/plain": [
       "0"
      ]
     },
     "execution_count": 19,
     "metadata": {},
     "output_type": "execute_result"
    }
   ],
   "source": [
    "# Check for missing values (you shouldn't have any)\n",
    "\n",
    "year_counts.isnull().sum() "
   ]
  },
  {
   "cell_type": "code",
   "execution_count": 20,
   "id": "f8e26fb1",
   "metadata": {},
   "outputs": [
    {
     "data": {
      "text/plain": [
       "2"
      ]
     },
     "execution_count": 20,
     "metadata": {},
     "output_type": "execute_result"
    }
   ],
   "source": [
    "# Check for duplicates\n",
    "\n",
    "dups = year_counts.duplicated()\n",
    "dups.sum()\n",
    "\n"
   ]
  },
  {
   "cell_type": "code",
   "execution_count": 21,
   "id": "d5949b9d",
   "metadata": {},
   "outputs": [
    {
     "name": "stdout",
     "output_type": "stream",
     "text": [
      "Duplicate Years:\n",
      "year\n",
      "2016-01-01    142\n",
      "2018-01-01    142\n",
      "Name: year, dtype: int64\n"
     ]
    }
   ],
   "source": [
    "# Check for duplicates\n",
    "dups = year_counts.duplicated()\n",
    "\n",
    "# Display duplicate entries\n",
    "duplicate_years = year_counts[dups]\n",
    "print(\"Duplicate Years:\")\n",
    "print(duplicate_years)"
   ]
  },
  {
   "cell_type": "markdown",
   "id": "b3bc673e",
   "metadata": {},
   "source": [
    "### 3. Time-series analysis: decomposition"
   ]
  },
  {
   "cell_type": "code",
   "execution_count": 22,
   "id": "7e6796a2",
   "metadata": {},
   "outputs": [
    {
     "data": {
      "text/html": [
       "<div>\n",
       "<style scoped>\n",
       "    .dataframe tbody tr th:only-of-type {\n",
       "        vertical-align: middle;\n",
       "    }\n",
       "\n",
       "    .dataframe tbody tr th {\n",
       "        vertical-align: top;\n",
       "    }\n",
       "\n",
       "    .dataframe thead th {\n",
       "        text-align: right;\n",
       "    }\n",
       "</style>\n",
       "<table border=\"1\" class=\"dataframe\">\n",
       "  <thead>\n",
       "    <tr style=\"text-align: right;\">\n",
       "      <th></th>\n",
       "      <th>Life Ladder</th>\n",
       "      <th>avg_happiness</th>\n",
       "    </tr>\n",
       "    <tr>\n",
       "      <th>datetime</th>\n",
       "      <th></th>\n",
       "      <th></th>\n",
       "    </tr>\n",
       "  </thead>\n",
       "  <tbody>\n",
       "    <tr>\n",
       "      <th>2005-01-01</th>\n",
       "      <td>27</td>\n",
       "      <td>6.446259</td>\n",
       "    </tr>\n",
       "    <tr>\n",
       "      <th>2006-01-01</th>\n",
       "      <td>89</td>\n",
       "      <td>5.196899</td>\n",
       "    </tr>\n",
       "    <tr>\n",
       "      <th>2007-01-01</th>\n",
       "      <td>102</td>\n",
       "      <td>5.418275</td>\n",
       "    </tr>\n",
       "    <tr>\n",
       "      <th>2008-01-01</th>\n",
       "      <td>110</td>\n",
       "      <td>5.418509</td>\n",
       "    </tr>\n",
       "    <tr>\n",
       "      <th>2009-01-01</th>\n",
       "      <td>114</td>\n",
       "      <td>5.457667</td>\n",
       "    </tr>\n",
       "    <tr>\n",
       "      <th>2010-01-01</th>\n",
       "      <td>124</td>\n",
       "      <td>5.496806</td>\n",
       "    </tr>\n",
       "    <tr>\n",
       "      <th>2011-01-01</th>\n",
       "      <td>146</td>\n",
       "      <td>5.424082</td>\n",
       "    </tr>\n",
       "    <tr>\n",
       "      <th>2012-01-01</th>\n",
       "      <td>142</td>\n",
       "      <td>5.443754</td>\n",
       "    </tr>\n",
       "    <tr>\n",
       "      <th>2013-01-01</th>\n",
       "      <td>137</td>\n",
       "      <td>5.394562</td>\n",
       "    </tr>\n",
       "    <tr>\n",
       "      <th>2014-01-01</th>\n",
       "      <td>145</td>\n",
       "      <td>5.389021</td>\n",
       "    </tr>\n",
       "    <tr>\n",
       "      <th>2015-01-01</th>\n",
       "      <td>143</td>\n",
       "      <td>5.404035</td>\n",
       "    </tr>\n",
       "    <tr>\n",
       "      <th>2016-01-01</th>\n",
       "      <td>142</td>\n",
       "      <td>5.399479</td>\n",
       "    </tr>\n",
       "    <tr>\n",
       "      <th>2017-01-01</th>\n",
       "      <td>147</td>\n",
       "      <td>5.460408</td>\n",
       "    </tr>\n",
       "    <tr>\n",
       "      <th>2018-01-01</th>\n",
       "      <td>142</td>\n",
       "      <td>5.499444</td>\n",
       "    </tr>\n",
       "    <tr>\n",
       "      <th>2019-01-01</th>\n",
       "      <td>144</td>\n",
       "      <td>5.570868</td>\n",
       "    </tr>\n",
       "    <tr>\n",
       "      <th>2020-01-01</th>\n",
       "      <td>95</td>\n",
       "      <td>5.840600</td>\n",
       "    </tr>\n",
       "  </tbody>\n",
       "</table>\n",
       "</div>"
      ],
      "text/plain": [
       "            Life Ladder  avg_happiness\n",
       "datetime                              \n",
       "2005-01-01           27       6.446259\n",
       "2006-01-01           89       5.196899\n",
       "2007-01-01          102       5.418275\n",
       "2008-01-01          110       5.418509\n",
       "2009-01-01          114       5.457667\n",
       "2010-01-01          124       5.496806\n",
       "2011-01-01          146       5.424082\n",
       "2012-01-01          142       5.443754\n",
       "2013-01-01          137       5.394562\n",
       "2014-01-01          145       5.389021\n",
       "2015-01-01          143       5.404035\n",
       "2016-01-01          142       5.399479\n",
       "2017-01-01          147       5.460408\n",
       "2018-01-01          142       5.499444\n",
       "2019-01-01          144       5.570868\n",
       "2020-01-01           95       5.840600"
      ]
     },
     "execution_count": 22,
     "metadata": {},
     "output_type": "execute_result"
    }
   ],
   "source": [
    "result"
   ]
  },
  {
   "cell_type": "code",
   "execution_count": 23,
   "id": "00145ef2",
   "metadata": {},
   "outputs": [],
   "source": [
    "column_to_drop = 'avg_happiness'"
   ]
  },
  {
   "cell_type": "code",
   "execution_count": 24,
   "id": "464d1a2d",
   "metadata": {},
   "outputs": [],
   "source": [
    "result = result.drop(column_to_drop, axis=1)"
   ]
  },
  {
   "cell_type": "code",
   "execution_count": 25,
   "id": "366cf4c6",
   "metadata": {},
   "outputs": [],
   "source": [
    "# Reset index so that you can use the \"Date\" column as a filter\n",
    "\n",
    "result_1 = result.reset_index()"
   ]
  },
  {
   "cell_type": "code",
   "execution_count": 27,
   "id": "7b44de06",
   "metadata": {},
   "outputs": [
    {
     "data": {
      "text/html": [
       "<div>\n",
       "<style scoped>\n",
       "    .dataframe tbody tr th:only-of-type {\n",
       "        vertical-align: middle;\n",
       "    }\n",
       "\n",
       "    .dataframe tbody tr th {\n",
       "        vertical-align: top;\n",
       "    }\n",
       "\n",
       "    .dataframe thead th {\n",
       "        text-align: right;\n",
       "    }\n",
       "</style>\n",
       "<table border=\"1\" class=\"dataframe\">\n",
       "  <thead>\n",
       "    <tr style=\"text-align: right;\">\n",
       "      <th></th>\n",
       "      <th>datetime</th>\n",
       "      <th>Life Ladder</th>\n",
       "    </tr>\n",
       "  </thead>\n",
       "  <tbody>\n",
       "    <tr>\n",
       "      <th>0</th>\n",
       "      <td>2005-01-01</td>\n",
       "      <td>27</td>\n",
       "    </tr>\n",
       "    <tr>\n",
       "      <th>1</th>\n",
       "      <td>2006-01-01</td>\n",
       "      <td>89</td>\n",
       "    </tr>\n",
       "    <tr>\n",
       "      <th>2</th>\n",
       "      <td>2007-01-01</td>\n",
       "      <td>102</td>\n",
       "    </tr>\n",
       "    <tr>\n",
       "      <th>3</th>\n",
       "      <td>2008-01-01</td>\n",
       "      <td>110</td>\n",
       "    </tr>\n",
       "    <tr>\n",
       "      <th>4</th>\n",
       "      <td>2009-01-01</td>\n",
       "      <td>114</td>\n",
       "    </tr>\n",
       "    <tr>\n",
       "      <th>5</th>\n",
       "      <td>2010-01-01</td>\n",
       "      <td>124</td>\n",
       "    </tr>\n",
       "    <tr>\n",
       "      <th>6</th>\n",
       "      <td>2011-01-01</td>\n",
       "      <td>146</td>\n",
       "    </tr>\n",
       "    <tr>\n",
       "      <th>7</th>\n",
       "      <td>2012-01-01</td>\n",
       "      <td>142</td>\n",
       "    </tr>\n",
       "    <tr>\n",
       "      <th>8</th>\n",
       "      <td>2013-01-01</td>\n",
       "      <td>137</td>\n",
       "    </tr>\n",
       "    <tr>\n",
       "      <th>9</th>\n",
       "      <td>2014-01-01</td>\n",
       "      <td>145</td>\n",
       "    </tr>\n",
       "    <tr>\n",
       "      <th>10</th>\n",
       "      <td>2015-01-01</td>\n",
       "      <td>143</td>\n",
       "    </tr>\n",
       "    <tr>\n",
       "      <th>11</th>\n",
       "      <td>2016-01-01</td>\n",
       "      <td>142</td>\n",
       "    </tr>\n",
       "    <tr>\n",
       "      <th>12</th>\n",
       "      <td>2017-01-01</td>\n",
       "      <td>147</td>\n",
       "    </tr>\n",
       "    <tr>\n",
       "      <th>13</th>\n",
       "      <td>2018-01-01</td>\n",
       "      <td>142</td>\n",
       "    </tr>\n",
       "    <tr>\n",
       "      <th>14</th>\n",
       "      <td>2019-01-01</td>\n",
       "      <td>144</td>\n",
       "    </tr>\n",
       "    <tr>\n",
       "      <th>15</th>\n",
       "      <td>2020-01-01</td>\n",
       "      <td>95</td>\n",
       "    </tr>\n",
       "  </tbody>\n",
       "</table>\n",
       "</div>"
      ],
      "text/plain": [
       "     datetime  Life Ladder\n",
       "0  2005-01-01           27\n",
       "1  2006-01-01           89\n",
       "2  2007-01-01          102\n",
       "3  2008-01-01          110\n",
       "4  2009-01-01          114\n",
       "5  2010-01-01          124\n",
       "6  2011-01-01          146\n",
       "7  2012-01-01          142\n",
       "8  2013-01-01          137\n",
       "9  2014-01-01          145\n",
       "10 2015-01-01          143\n",
       "11 2016-01-01          142\n",
       "12 2017-01-01          147\n",
       "13 2018-01-01          142\n",
       "14 2019-01-01          144\n",
       "15 2020-01-01           95"
      ]
     },
     "execution_count": 27,
     "metadata": {},
     "output_type": "execute_result"
    }
   ],
   "source": [
    "result_1"
   ]
  },
  {
   "cell_type": "code",
   "execution_count": 28,
   "id": "8bbfd1e6",
   "metadata": {},
   "outputs": [],
   "source": [
    "time_series = result_1['Life Ladder']"
   ]
  },
  {
   "cell_type": "code",
   "execution_count": 29,
   "id": "5c4395d4",
   "metadata": {},
   "outputs": [],
   "source": [
    "result_1['datetime'] = pd.to_datetime(result_1['datetime'])"
   ]
  },
  {
   "cell_type": "code",
   "execution_count": 30,
   "id": "e8efd214",
   "metadata": {},
   "outputs": [],
   "source": [
    "result_1.set_index('datetime', inplace=True)"
   ]
  },
  {
   "cell_type": "code",
   "execution_count": 33,
   "id": "257c3789",
   "metadata": {},
   "outputs": [],
   "source": [
    "result_1.index.freq = 'AS-JAN'"
   ]
  },
  {
   "cell_type": "code",
   "execution_count": 34,
   "id": "f3c5138e",
   "metadata": {},
   "outputs": [],
   "source": [
    "time_series = result_1['Life Ladder']"
   ]
  },
  {
   "cell_type": "code",
   "execution_count": 39,
   "id": "c60e1dcb",
   "metadata": {},
   "outputs": [],
   "source": [
    "# Decompose the time series using an additive model\n",
    "\n",
    "decomposition = sm.tsa.seasonal_decompose(result_1, model='additive')"
   ]
  },
  {
   "cell_type": "code",
   "execution_count": 40,
   "id": "ba6a64ae",
   "metadata": {},
   "outputs": [],
   "source": [
    "from pylab import rcParams # This will define a fixed size for all special charts.\n",
    "\n",
    "rcParams['figure.figsize'] = 18, 7"
   ]
  },
  {
   "cell_type": "code",
   "execution_count": 41,
   "id": "d43cb86f",
   "metadata": {},
   "outputs": [
    {
     "data": {
      "image/png": "[encoded data removed]",
      "text/plain": [
       "<Figure size 1800x700 with 4 Axes>"
      ]
     },
     "metadata": {},
     "output_type": "display_data"
    }
   ],
   "source": [
    "# Plot the separate components\n",
    "\n",
    "decomposition.plot()\n",
    "plt.show()"
   ]
  },
  {
   "cell_type": "markdown",
   "id": "77825af8",
   "metadata": {},
   "source": [
    "### 4. Testing for stationarity"
   ]
  },
  {
   "cell_type": "code",
   "execution_count": 43,
   "id": "d08f21e1",
   "metadata": {},
   "outputs": [
    {
     "name": "stdout",
     "output_type": "stream",
     "text": [
      "Dickey-Fuller Stationarity test:\n",
      "Test Statistic                 -4.472355\n",
      "p-value                         0.000221\n",
      "Number of Lags Used             0.000000\n",
      "Number of Observations Used    15.000000\n",
      "Critical Value (1%)            -3.964443\n",
      "Critical Value (5%)            -3.084908\n",
      "Critical Value (10%)           -2.681814\n",
      "dtype: float64\n"
     ]
    }
   ],
   "source": [
    "# The adfuller() function will import from the model from statsmodels for the test; however, running it will only return \n",
    "# an array of numbers. This is why you need to also define a function that prints the correct output from that array.\n",
    "\n",
    "from statsmodels.tsa.stattools import adfuller # Import the adfuller() function\n",
    "\n",
    "def dickey_fuller(timeseries): # Define the function\n",
    "    # Perform the Dickey-Fuller test:\n",
    "    print ('Dickey-Fuller Stationarity test:')\n",
    "    test = adfuller(timeseries, autolag='AIC')\n",
    "    result = pd.Series(test[0:4], index=['Test Statistic','p-value','Number of Lags Used','Number of Observations Used'])\n",
    "    for key,value in test[4].items():\n",
    "       result['Critical Value (%s)'%key] = value\n",
    "    print (result)\n",
    "\n",
    "# Apply the test using the function on the time series\n",
    "dickey_fuller(result_1['Life Ladder'])"
   ]
  },
  {
   "cell_type": "markdown",
   "id": "deee25cb",
   "metadata": {},
   "source": [
    "Dickey-Fuller Stationarity test:\n",
    "\n",
    "#### Test Statistic: The test statistic value from the Dickey-Fuller test. More negative values indicate stronger evidence against the null hypothesis (that the time series is non-stationary).\n",
    "Test Statistic                 -4.472355\n",
    "\n",
    "#### p-value: The p-value associated with the test statistic. It indicates the probability of observing a test statistic as extreme as the one computed from the data, assuming the null hypothesis is true (i.e., the time series is non-stationary). A low p-value suggests rejecting the null hypothesis.\n",
    "p-value                         0.000221\n",
    "\n",
    "#### Number of Lags Used: The number of lags used in the regression when computing the test statistic. This is determined automatically based on the AIC criterion.\n",
    "Number of Lags Used             0.000000\n",
    "\n",
    "#### Number of Observations Used: The number of observations used in the test. This depends on the length of the time series and the number of lags used.\n",
    "Number of Observations Used    15.000000\n",
    "\n",
    "####  Critical Values: These are the critical values for different confidence levels (1%, 5%, and 10%). They represent the thresholds beyond which we reject the null hypothesis. If the test statistic is less extreme than these critical values, we fail to reject the null hypothesis.\n",
    "Critical Value (1%)            -3.964443\n",
    "Critical Value (5%)            -3.084908\n",
    "Critical Value (10%)           -2.681814"
   ]
  },
  {
   "cell_type": "markdown",
   "id": "d33dcce0",
   "metadata": {},
   "source": [
    "These results suggest that the time series is likely stationary, given the low p-value and the test statistic below the critical values at the 1%, 5%, and 10% levels of significance."
   ]
  },
  {
   "cell_type": "code",
   "execution_count": 46,
   "id": "c6a6f562",
   "metadata": {},
   "outputs": [
    {
     "data": {
      "image/png": "[encoded data removed]",
      "text/plain": [
       "<Figure size 1800x700 with 1 Axes>"
      ]
     },
     "metadata": {},
     "output_type": "display_data"
    }
   ],
   "source": [
    "# Check out a plot of autocorrelations\n",
    "\n",
    "from statsmodels.graphics.tsaplots import plot_acf, plot_pacf # Here, you import the autocorrelation and partial correlation plots\n",
    "\n",
    "plot_acf(result_1)\n",
    "plt.show()"
   ]
  },
  {
   "cell_type": "markdown",
   "id": "3de003a4",
   "metadata": {},
   "source": [
    "### Since the p-value is less than the significance level (0.05), we reject the null hypothesis of the Dickey-Fuller test, indicating that the time series is likely stationary. Therefore, differencing may not be necessary for further analysis or modeling."
   ]
  },
  {
   "cell_type": "code",
   "execution_count": 48,
   "id": "705e1261",
   "metadata": {},
   "outputs": [
    {
     "ename": "OSError",
     "evalue": "Cannot save file into a non-existent directory: 'C:\\Users\\ASUS\\World Happiness Report 04.2024\\02 Data\\Prepared Data\\02 Data\\prepared data'",
     "output_type": "error",
     "traceback": [
      "\u001b[1;31m---------------------------------------------------------------------------\u001b[0m",
      "\u001b[1;31mOSError\u001b[0m                                   Traceback (most recent call last)",
      "Cell \u001b[1;32mIn[48], line 2\u001b[0m\n\u001b[0;32m      1\u001b[0m \u001b[38;5;66;03m# saving to csv\u001b[39;00m\n\u001b[1;32m----> 2\u001b[0m df_World\u001b[38;5;241m.\u001b[39mto_csv(os\u001b[38;5;241m.\u001b[39mpath\u001b[38;5;241m.\u001b[39mjoin(path, \u001b[38;5;124m'\u001b[39m\u001b[38;5;124m02 Data\u001b[39m\u001b[38;5;124m'\u001b[39m,\u001b[38;5;124m'\u001b[39m\u001b[38;5;124mprepared data\u001b[39m\u001b[38;5;124m'\u001b[39m, \u001b[38;5;124m'\u001b[39m\u001b[38;5;124mdf_World_0624.csv\u001b[39m\u001b[38;5;124m'\u001b[39m))\n",
      "File \u001b[1;32m~\\anaconda3\\Lib\\site-packages\\pandas\\core\\generic.py:3902\u001b[0m, in \u001b[0;36mNDFrame.to_csv\u001b[1;34m(self, path_or_buf, sep, na_rep, float_format, columns, header, index, index_label, mode, encoding, compression, quoting, quotechar, lineterminator, chunksize, date_format, doublequote, escapechar, decimal, errors, storage_options)\u001b[0m\n\u001b[0;32m   3891\u001b[0m df \u001b[38;5;241m=\u001b[39m \u001b[38;5;28mself\u001b[39m \u001b[38;5;28;01mif\u001b[39;00m \u001b[38;5;28misinstance\u001b[39m(\u001b[38;5;28mself\u001b[39m, ABCDataFrame) \u001b[38;5;28;01melse\u001b[39;00m \u001b[38;5;28mself\u001b[39m\u001b[38;5;241m.\u001b[39mto_frame()\n\u001b[0;32m   3893\u001b[0m formatter \u001b[38;5;241m=\u001b[39m DataFrameFormatter(\n\u001b[0;32m   3894\u001b[0m     frame\u001b[38;5;241m=\u001b[39mdf,\n\u001b[0;32m   3895\u001b[0m     header\u001b[38;5;241m=\u001b[39mheader,\n\u001b[1;32m   (...)\u001b[0m\n\u001b[0;32m   3899\u001b[0m     decimal\u001b[38;5;241m=\u001b[39mdecimal,\n\u001b[0;32m   3900\u001b[0m )\n\u001b[1;32m-> 3902\u001b[0m \u001b[38;5;28;01mreturn\u001b[39;00m DataFrameRenderer(formatter)\u001b[38;5;241m.\u001b[39mto_csv(\n\u001b[0;32m   3903\u001b[0m     path_or_buf,\n\u001b[0;32m   3904\u001b[0m     lineterminator\u001b[38;5;241m=\u001b[39mlineterminator,\n\u001b[0;32m   3905\u001b[0m     sep\u001b[38;5;241m=\u001b[39msep,\n\u001b[0;32m   3906\u001b[0m     encoding\u001b[38;5;241m=\u001b[39mencoding,\n\u001b[0;32m   3907\u001b[0m     errors\u001b[38;5;241m=\u001b[39merrors,\n\u001b[0;32m   3908\u001b[0m     compression\u001b[38;5;241m=\u001b[39mcompression,\n\u001b[0;32m   3909\u001b[0m     quoting\u001b[38;5;241m=\u001b[39mquoting,\n\u001b[0;32m   3910\u001b[0m     columns\u001b[38;5;241m=\u001b[39mcolumns,\n\u001b[0;32m   3911\u001b[0m     index_label\u001b[38;5;241m=\u001b[39mindex_label,\n\u001b[0;32m   3912\u001b[0m     mode\u001b[38;5;241m=\u001b[39mmode,\n\u001b[0;32m   3913\u001b[0m     chunksize\u001b[38;5;241m=\u001b[39mchunksize,\n\u001b[0;32m   3914\u001b[0m     quotechar\u001b[38;5;241m=\u001b[39mquotechar,\n\u001b[0;32m   3915\u001b[0m     date_format\u001b[38;5;241m=\u001b[39mdate_format,\n\u001b[0;32m   3916\u001b[0m     doublequote\u001b[38;5;241m=\u001b[39mdoublequote,\n\u001b[0;32m   3917\u001b[0m     escapechar\u001b[38;5;241m=\u001b[39mescapechar,\n\u001b[0;32m   3918\u001b[0m     storage_options\u001b[38;5;241m=\u001b[39mstorage_options,\n\u001b[0;32m   3919\u001b[0m )\n",
      "File \u001b[1;32m~\\anaconda3\\Lib\\site-packages\\pandas\\io\\formats\\format.py:1152\u001b[0m, in \u001b[0;36mDataFrameRenderer.to_csv\u001b[1;34m(self, path_or_buf, encoding, sep, columns, index_label, mode, compression, quoting, quotechar, lineterminator, chunksize, date_format, doublequote, escapechar, errors, storage_options)\u001b[0m\n\u001b[0;32m   1131\u001b[0m     created_buffer \u001b[38;5;241m=\u001b[39m \u001b[38;5;28;01mFalse\u001b[39;00m\n\u001b[0;32m   1133\u001b[0m csv_formatter \u001b[38;5;241m=\u001b[39m CSVFormatter(\n\u001b[0;32m   1134\u001b[0m     path_or_buf\u001b[38;5;241m=\u001b[39mpath_or_buf,\n\u001b[0;32m   1135\u001b[0m     lineterminator\u001b[38;5;241m=\u001b[39mlineterminator,\n\u001b[1;32m   (...)\u001b[0m\n\u001b[0;32m   1150\u001b[0m     formatter\u001b[38;5;241m=\u001b[39m\u001b[38;5;28mself\u001b[39m\u001b[38;5;241m.\u001b[39mfmt,\n\u001b[0;32m   1151\u001b[0m )\n\u001b[1;32m-> 1152\u001b[0m csv_formatter\u001b[38;5;241m.\u001b[39msave()\n\u001b[0;32m   1154\u001b[0m \u001b[38;5;28;01mif\u001b[39;00m created_buffer:\n\u001b[0;32m   1155\u001b[0m     \u001b[38;5;28;01massert\u001b[39;00m \u001b[38;5;28misinstance\u001b[39m(path_or_buf, StringIO)\n",
      "File \u001b[1;32m~\\anaconda3\\Lib\\site-packages\\pandas\\io\\formats\\csvs.py:247\u001b[0m, in \u001b[0;36mCSVFormatter.save\u001b[1;34m(self)\u001b[0m\n\u001b[0;32m    243\u001b[0m \u001b[38;5;250m\u001b[39m\u001b[38;5;124;03m\"\"\"\u001b[39;00m\n\u001b[0;32m    244\u001b[0m \u001b[38;5;124;03mCreate the writer & save.\u001b[39;00m\n\u001b[0;32m    245\u001b[0m \u001b[38;5;124;03m\"\"\"\u001b[39;00m\n\u001b[0;32m    246\u001b[0m \u001b[38;5;66;03m# apply compression and byte/text conversion\u001b[39;00m\n\u001b[1;32m--> 247\u001b[0m \u001b[38;5;28;01mwith\u001b[39;00m get_handle(\n\u001b[0;32m    248\u001b[0m     \u001b[38;5;28mself\u001b[39m\u001b[38;5;241m.\u001b[39mfilepath_or_buffer,\n\u001b[0;32m    249\u001b[0m     \u001b[38;5;28mself\u001b[39m\u001b[38;5;241m.\u001b[39mmode,\n\u001b[0;32m    250\u001b[0m     encoding\u001b[38;5;241m=\u001b[39m\u001b[38;5;28mself\u001b[39m\u001b[38;5;241m.\u001b[39mencoding,\n\u001b[0;32m    251\u001b[0m     errors\u001b[38;5;241m=\u001b[39m\u001b[38;5;28mself\u001b[39m\u001b[38;5;241m.\u001b[39merrors,\n\u001b[0;32m    252\u001b[0m     compression\u001b[38;5;241m=\u001b[39m\u001b[38;5;28mself\u001b[39m\u001b[38;5;241m.\u001b[39mcompression,\n\u001b[0;32m    253\u001b[0m     storage_options\u001b[38;5;241m=\u001b[39m\u001b[38;5;28mself\u001b[39m\u001b[38;5;241m.\u001b[39mstorage_options,\n\u001b[0;32m    254\u001b[0m ) \u001b[38;5;28;01mas\u001b[39;00m handles:\n\u001b[0;32m    255\u001b[0m     \u001b[38;5;66;03m# Note: self.encoding is irrelevant here\u001b[39;00m\n\u001b[0;32m    256\u001b[0m     \u001b[38;5;28mself\u001b[39m\u001b[38;5;241m.\u001b[39mwriter \u001b[38;5;241m=\u001b[39m csvlib\u001b[38;5;241m.\u001b[39mwriter(\n\u001b[0;32m    257\u001b[0m         handles\u001b[38;5;241m.\u001b[39mhandle,\n\u001b[0;32m    258\u001b[0m         lineterminator\u001b[38;5;241m=\u001b[39m\u001b[38;5;28mself\u001b[39m\u001b[38;5;241m.\u001b[39mlineterminator,\n\u001b[1;32m   (...)\u001b[0m\n\u001b[0;32m    263\u001b[0m         quotechar\u001b[38;5;241m=\u001b[39m\u001b[38;5;28mself\u001b[39m\u001b[38;5;241m.\u001b[39mquotechar,\n\u001b[0;32m    264\u001b[0m     )\n\u001b[0;32m    266\u001b[0m     \u001b[38;5;28mself\u001b[39m\u001b[38;5;241m.\u001b[39m_save()\n",
      "File \u001b[1;32m~\\anaconda3\\Lib\\site-packages\\pandas\\io\\common.py:739\u001b[0m, in \u001b[0;36mget_handle\u001b[1;34m(path_or_buf, mode, encoding, compression, memory_map, is_text, errors, storage_options)\u001b[0m\n\u001b[0;32m    737\u001b[0m \u001b[38;5;66;03m# Only for write methods\u001b[39;00m\n\u001b[0;32m    738\u001b[0m \u001b[38;5;28;01mif\u001b[39;00m \u001b[38;5;124m\"\u001b[39m\u001b[38;5;124mr\u001b[39m\u001b[38;5;124m\"\u001b[39m \u001b[38;5;129;01mnot\u001b[39;00m \u001b[38;5;129;01min\u001b[39;00m mode \u001b[38;5;129;01mand\u001b[39;00m is_path:\n\u001b[1;32m--> 739\u001b[0m     check_parent_directory(\u001b[38;5;28mstr\u001b[39m(handle))\n\u001b[0;32m    741\u001b[0m \u001b[38;5;28;01mif\u001b[39;00m compression:\n\u001b[0;32m    742\u001b[0m     \u001b[38;5;28;01mif\u001b[39;00m compression \u001b[38;5;241m!=\u001b[39m \u001b[38;5;124m\"\u001b[39m\u001b[38;5;124mzstd\u001b[39m\u001b[38;5;124m\"\u001b[39m:\n\u001b[0;32m    743\u001b[0m         \u001b[38;5;66;03m# compression libraries do not like an explicit text-mode\u001b[39;00m\n",
      "File \u001b[1;32m~\\anaconda3\\Lib\\site-packages\\pandas\\io\\common.py:604\u001b[0m, in \u001b[0;36mcheck_parent_directory\u001b[1;34m(path)\u001b[0m\n\u001b[0;32m    602\u001b[0m parent \u001b[38;5;241m=\u001b[39m Path(path)\u001b[38;5;241m.\u001b[39mparent\n\u001b[0;32m    603\u001b[0m \u001b[38;5;28;01mif\u001b[39;00m \u001b[38;5;129;01mnot\u001b[39;00m parent\u001b[38;5;241m.\u001b[39mis_dir():\n\u001b[1;32m--> 604\u001b[0m     \u001b[38;5;28;01mraise\u001b[39;00m \u001b[38;5;167;01mOSError\u001b[39;00m(\u001b[38;5;124mrf\u001b[39m\u001b[38;5;124m\"\u001b[39m\u001b[38;5;124mCannot save file into a non-existent directory: \u001b[39m\u001b[38;5;124m'\u001b[39m\u001b[38;5;132;01m{\u001b[39;00mparent\u001b[38;5;132;01m}\u001b[39;00m\u001b[38;5;124m'\u001b[39m\u001b[38;5;124m\"\u001b[39m)\n",
      "\u001b[1;31mOSError\u001b[0m: Cannot save file into a non-existent directory: 'C:\\Users\\ASUS\\World Happiness Report 04.2024\\02 Data\\Prepared Data\\02 Data\\prepared data'"
     ]
    }
   ],
   "source": [
    "# saving to csv\n",
    "df_World.to_csv(os.path.join(path, '02 Data','prepared data', 'df_World_0624.csv'))"
   ]
  },
  {
   "cell_type": "code",
   "execution_count": null,
   "id": "628181ff",
   "metadata": {},
   "outputs": [],
   "source": []
  }
 ],
 "metadata": {
  "kernelspec": {
   "display_name": "Python 3 (ipykernel)",
   "language": "python",
   "name": "python3"
  },
  "language_info": {
   "codemirror_mode": {
    "name": "ipython",
    "version": 3
   },
   "file_extension": ".py",
   "mimetype": "text/x-python",
   "name": "python",
   "nbconvert_exporter": "python",
   "pygments_lexer": "ipython3",
   "version": "3.11.5"
  }
 },
 "nbformat": 4,
 "nbformat_minor": 5
}
